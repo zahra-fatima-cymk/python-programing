{
  "nbformat": 4,
  "nbformat_minor": 0,
  "metadata": {
    "colab": {
      "provenance": [],
      "authorship_tag": "ABX9TyOceXmS0RXeMJbMMQZaaq1E",
      "include_colab_link": true
    },
    "kernelspec": {
      "name": "python3",
      "display_name": "Python 3"
    },
    "language_info": {
      "name": "python"
    }
  },
  "cells": [
    {
      "cell_type": "markdown",
      "metadata": {
        "id": "view-in-github",
        "colab_type": "text"
      },
      "source": [
        "<a href=\"https://colab.research.google.com/github/zahra-fatima-cymk/python-programing/blob/main/python_variables.ipynb\" target=\"_parent\"><img src=\"https://colab.research.google.com/assets/colab-badge.svg\" alt=\"Open In Colab\"/></a>"
      ]
    },
    {
      "cell_type": "code",
      "execution_count": 1,
      "metadata": {
        "colab": {
          "base_uri": "https://localhost:8080/"
        },
        "id": "fSmxTDnqlIAM",
        "outputId": "1aae87b0-2819-4a7b-a0af-bb33328137d3"
      },
      "outputs": [
        {
          "output_type": "stream",
          "name": "stdout",
          "text": [
            "Hello World\n"
          ]
        }
      ],
      "source": [
        "print('Hello World')"
      ]
    },
    {
      "cell_type": "code",
      "source": [
        "#variables\n",
        "a=10\n",
        "b=20\n",
        "print(a,b)\n",
        "print(id(a),id(b))\n",
        "\n"
      ],
      "metadata": {
        "colab": {
          "base_uri": "https://localhost:8080/"
        },
        "id": "9YaHP7A6lRvM",
        "outputId": "27eef698-864e-42f8-8506-9ced48c1df66"
      },
      "execution_count": 2,
      "outputs": [
        {
          "output_type": "stream",
          "name": "stdout",
          "text": [
            "10 20\n",
            "10758024 10758344\n"
          ]
        }
      ]
    },
    {
      "cell_type": "code",
      "source": [
        "c='hello'\n",
        "print(c)\n",
        "a1=20\n",
        "print(a1)\n",
        "a_b=20\n",
        "print(a_b)\n",
        "_a=20\n",
        "print(_a)"
      ],
      "metadata": {
        "colab": {
          "base_uri": "https://localhost:8080/"
        },
        "id": "Jfj7Qqpxl5M5",
        "outputId": "57377c1b-ed9b-4f6e-b061-4ee9934cfab1"
      },
      "execution_count": 3,
      "outputs": [
        {
          "output_type": "stream",
          "name": "stdout",
          "text": [
            "hello\n",
            "20\n",
            "20\n",
            "20\n"
          ]
        }
      ]
    },
    {
      "cell_type": "code",
      "source": [
        "#Datatypes in pyhton\n",
        "a=20\n",
        "print(a,type(a))\n",
        "a=5.5\n",
        "print(1,type(a))\n",
        "a=2+5j\n",
        "print(a,type(a))"
      ],
      "metadata": {
        "id": "KWrFL1hxmkt8"
      },
      "execution_count": null,
      "outputs": []
    }
  ]
}